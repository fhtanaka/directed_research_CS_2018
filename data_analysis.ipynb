{
 "cells": [
  {
   "cell_type": "markdown",
   "metadata": {},
   "source": [
    "# Data Analysis"
   ]
  },
  {
   "cell_type": "code",
   "execution_count": null,
   "metadata": {},
   "outputs": [],
   "source": [
    "import pandas as pd\n",
    "import seaborn as sns\n",
    "import numpy as np\n",
    "from data_treatment import DataAtts\n",
    "from scipy.stats import norm\n",
    "import ipywidgets as widgets\n",
    "import matplotlib.pyplot as plt\n",
    "import glob\n",
    "from IPython.display import display"
   ]
  },
  {
   "cell_type": "code",
   "execution_count": null,
   "metadata": {},
   "outputs": [],
   "source": [
    "files_dropdown = widgets.Dropdown(\n",
    "    options=glob.glob(\"original_data/*.csv\"),\n",
    "    description='File:',\n",
    "    value = 'original_data/diabetes_escalonated.csv',\n",
    "    disabled=False,\n",
    ")\n",
    "display(files_dropdown)"
   ]
  },
  {
   "cell_type": "code",
   "execution_count": 6,
   "metadata": {},
   "outputs": [
    {
     "name": "stdout",
     "output_type": "stream",
     "text": [
      "Pima Indians Diabetes Database \n",
      "\n",
      "Normal 65.1 %  of the dataset\n",
      "Diabets 34.9 %  of the dataset\n"
     ]
    }
   ],
   "source": [
    "file_name=files_dropdown.value\n",
    "dataAtts = DataAtts(file_name)\n",
    "    \n",
    "    \n",
    "data = pd.read_csv(file_name)\n",
    "print(dataAtts.message, \"\\n\")\n",
    "print(dataAtts.values_names[0], round(data[dataAtts.class_name].value_counts()[0]/len(data) * 100,2), '%  of the dataset')\n",
    "print(dataAtts.values_names[1], round(data[dataAtts.class_name].value_counts()[1]/len(data) * 100,2), '%  of the dataset')"
   ]
  },
  {
   "cell_type": "code",
   "execution_count": 12,
   "metadata": {},
   "outputs": [
    {
     "data": {
      "text/plain": [
       "<Figure size 432x288 with 0 Axes>"
      ]
     },
     "metadata": {},
     "output_type": "display_data"
    }
   ],
   "source": [
    "classes = list(data)\n",
    "file = open(\"values_analysis/\" + dataAtts.fname + \"_analysis.txt\", \"w\")\n",
    "\n",
    "file.write(dataAtts.message +  \"\\n\\n\")\n",
    "file.write(dataAtts.values_names[0] + \": \" + str(round(data[dataAtts.class_name].value_counts()[0]/len(data) * 100, 2)) +  '%  of the dataset' + \"\\n\")\n",
    "file.write(dataAtts.values_names[1] + \": \" +   str(round(data[dataAtts.class_name].value_counts()[1]/len(data) * 100, 2)) +  '%  of the dataset' + \"\\n\\n\")\n",
    "\n",
    "for name in classes:\n",
    "    if name==dataAtts.class_name or name==\"Unnamed: 32\":\n",
    "        continue\n",
    "        \n",
    "    plt.xlabel('Values')\n",
    "    plt.ylabel('Probability')\n",
    "    plt.title(name + \" distribution\")\n",
    "    fraud_dist = data[name].loc[data[dataAtts.class_name] == 1].values\n",
    "    common_dist = data[name].loc[data[dataAtts.class_name] == 0].values\n",
    "    plt.hist(common_dist, 50, density=True, alpha=0.6)\n",
    "    plt.hist(fraud_dist, 50, density=True, alpha=0.6, facecolor='r')\n",
    "    plt.savefig('images/'+ dataAtts.fname + \"/\"+name+'_distribution.png')\n",
    "    plt.clf()\n",
    "\n",
    "    file.write(name + \":\\n\")\n",
    "    file.write(\"\\t\\t\\t\" + dataAtts.values_names[0] + \"\\t\\t\\t\\t\\t\"+dataAtts.values_names[1]+\"\\n\")\n",
    "    file.write(\"min:\\t\\t\" + str(round(common_dist.min(), 3)) + \"\\t\\t\\t\\t\\t\" + str(round(fraud_dist.min(), 3))+\"\\n\")\n",
    "    file.write(\"max:\\t\\t\" + str(round(common_dist.max(), 3)) + \"\\t\\t\\t\\t\\t\" + str(round(fraud_dist.max(), 3))+\"\\n\")\n",
    "    file.write(\"mean:\\t\\t\" + str(round(common_dist.mean(), 3)) + \"\\t\\t\\t\\t\\t\" + str(round(fraud_dist.mean(), 3))+\"\\n\")\n",
    "    file.write(\"median:\\t\\t\" + str(round(np.median(common_dist), 3)) + \"\\t\\t\\t\\t\\t\" + str(round(np.median(fraud_dist), 3))+\"\\n\\n\")"
   ]
  },
  {
   "cell_type": "code",
   "execution_count": null,
   "metadata": {},
   "outputs": [],
   "source": []
  }
 ],
 "metadata": {
  "kernelspec": {
   "display_name": "Python 3",
   "language": "python",
   "name": "python3"
  },
  "language_info": {
   "codemirror_mode": {
    "name": "ipython",
    "version": 3
   },
   "file_extension": ".py",
   "mimetype": "text/x-python",
   "name": "python",
   "nbconvert_exporter": "python",
   "pygments_lexer": "ipython3",
   "version": "3.6.5"
  }
 },
 "nbformat": 4,
 "nbformat_minor": 2
}
